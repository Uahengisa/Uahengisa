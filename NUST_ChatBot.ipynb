{
  "cells": [
    {
      "cell_type": "markdown",
      "metadata": {
        "id": "view-in-github",
        "colab_type": "text"
      },
      "source": [
        "<a href=\"https://colab.research.google.com/github/Uahengisa/Uahengisa/blob/main/NUST_ChatBot.ipynb\" target=\"_parent\"><img src=\"https://colab.research.google.com/assets/colab-badge.svg\" alt=\"Open In Colab\"/></a>"
      ]
    },
    {
      "cell_type": "code",
      "execution_count": null,
      "metadata": {
        "id": "gh6X5dic7pdW"
      },
      "outputs": [],
      "source": [
        "#Description: This is a University website chat bot program designed to answer FAQ questions"
      ]
    },
    {
      "cell_type": "code",
      "execution_count": null,
      "metadata": {
        "id": "Q-PDquVf77rH"
      },
      "outputs": [],
      "source": [
        "pip install nltk"
      ]
    },
    {
      "cell_type": "code",
      "execution_count": null,
      "metadata": {
        "id": "hqnxMxJvkcwN"
      },
      "outputs": [],
      "source": [
        "pip install pdfminer.six"
      ]
    },
    {
      "cell_type": "code",
      "execution_count": null,
      "metadata": {
        "id": "TG4tvA_hkkaA"
      },
      "outputs": [],
      "source": [
        "pip install PyPDF2"
      ]
    },
    {
      "cell_type": "code",
      "execution_count": null,
      "metadata": {
        "id": "PRC14wcA8BBg"
      },
      "outputs": [],
      "source": [
        "pip install newspaper3k"
      ]
    },
    {
      "cell_type": "code",
      "execution_count": null,
      "metadata": {
        "id": "sIgbkiyG8YqO"
      },
      "outputs": [],
      "source": [
        "from newspaper import Article\n",
        "import random\n",
        "import string\n",
        "import nltk\n",
        "from nltk.chat.util import Chat, reflections\n",
        "from sklearn.feature_extraction.text import CountVectorizer\n",
        "from sklearn.metrics.pairwise import cosine_similarity\n",
        "import numpy as np\n",
        "import warnings\n",
        "warnings.filterwarnings ('ignore')"
      ]
    },
    {
      "cell_type": "code",
      "execution_count": null,
      "metadata": {
        "id": "Rp5qUyZnMyN-"
      },
      "outputs": [],
      "source": [
        "from io import StringIO\n",
        "import json\n",
        "import re\n",
        "import random\n",
        "import numpy as np\n"
      ]
    },
    {
      "cell_type": "code",
      "execution_count": null,
      "metadata": {
        "colab": {
          "base_uri": "https://localhost:8080/"
        },
        "id": "FFZLhsba8x0W",
        "outputId": "30c7bd9d-1ccc-4776-fd06-f3182990335e"
      },
      "outputs": [
        {
          "data": {
            "text/plain": [
              "True"
            ]
          },
          "execution_count": 94,
          "metadata": {},
          "output_type": "execute_result"
        }
      ],
      "source": [
        "nltk.download ('punkt', quiet = True)"
      ]
    },
    {
      "cell_type": "code",
      "execution_count": null,
      "metadata": {
        "id": "iQvt039d83Ij"
      },
      "outputs": [],
      "source": [
        "#Get the article\n",
        "article = Article('https://uwaterloo.ca/graduate-studies-postdoctoral-affairs/new-students/frequently-asked-questions-faqs-new-students') \n",
        "article.download()\n",
        "article.parse()\n",
        "article.nlp()\n",
        "\n",
        "corpus = article.text"
      ]
    },
    {
      "cell_type": "code",
      "execution_count": null,
      "metadata": {
        "id": "DEx6Oivl8_RN"
      },
      "outputs": [],
      "source": [
        "#Print website content\n",
        "print(corpus)"
      ]
    },
    {
      "cell_type": "code",
      "execution_count": null,
      "metadata": {
        "id": "DsXNQMs-_SkB"
      },
      "outputs": [],
      "source": [
        "#Tokenization\n",
        "text = corpus\n",
        "sentence_list = nltk.sent_tokenize(text) #List of sentence"
      ]
    },
    {
      "cell_type": "code",
      "execution_count": null,
      "metadata": {
        "colab": {
          "base_uri": "https://localhost:8080/"
        },
        "id": "yh27XyKaAbeP",
        "outputId": "8244952e-6651-4015-e534-4375987f61cf"
      },
      "outputs": [
        {
          "name": "stdout",
          "output_type": "stream",
          "text": [
            "['As you navigate the next exciting chapter of your academic life by starting your master’s or doctoral degree, we know you may have some questions.', 'Below we provide you with some answers!', 'If you don’t see your question (and your answer!', '), please explore the ways that you can connect with us to access the information you need.', 'General COVID-19 related questions\\n\\nFor answers to your general COVID-19 questions, including proof of vaccination status, campus Check-In tools, masks and facilities, visit the Frequently ask questions page on the COVID-19 information website.', 'Return to top\\n\\nInternational students\\n\\nOur colleagues in the Student Success Office, including immigration consultants, have provided a comprehensive list of questions and answers for international students.', 'We encourage you to review the questions on the main FAQ Covid page.', 'TOEFL AND GRE testing centres are closed in certain countries.', 'What are my options for English Language Proficiency tests?', 'If testing centres are closed, the following options are available for test-takers:\\n\\nEnglish Language Proficiency\\n\\nTOEFL iBT Special Home Edition® is available in all areas that TOEFL iBT testing is normally available, except for Iran.', 'For those students not able to use the TOEFL at-home test:\\n\\nThe Duolingo English Test results may be used for possible placement in our English for Academic Success (EFAS) offered online through University of Waterloo, Renison University College, English Language Institute\\n\\nDuolingo score plus EFAS requirement for results to satisfy ELPC for Graduate Studies of 75% overall in level 400 with at least 75% in writing, oral and academic skills 85-94: 2 terms of English language support (EFAS) 95-104: 1 term of English language support (EFAS) 105+: good candidate for summer intensive support (EFAS)\\n\\n\\n\\nGRE and GMAT\\n\\nThe GRE® General Test at Home is available everywhere the computer-delivered GRE General Test is offered, except for Iran.', 'The GMAT Online exam is available in most locations, except for Mainland China, Cuba, Iran, North Korea, Sudan and Slovenia due to local data privacy rules.', 'Return to top\\n\\nHow and when should I enrol in my classes?', 'Visit the important dates calendar for graduate studies to determine the beginning of the enrolment period for the term in which you are starting your graduate program.', 'Students who have been matriculated (made active in their program) can enrol for courses through Quest.', 'What supports are there to help new students?', 'Waterloo Grad Ready program is designed especially for master’s and doctoral students.', 'The program will connect you to other graduate students, support you along your academic journey to Waterloo and make sure you’re keeping up to date with important deadlines.', 'You will receive more information about Waterloo Grad Ready in your inbox.', 'Where do I find information about the breakdown of tuition and fees?', 'Information about tuition and fees can be found on the Student Financial Services website.', 'How do I activate my UWaterloo email address?', 'Once you have been matriculated (made active) in your program, you can activate your UWaterloo email address.', 'To do so, follow the steps on the Office 365 web page to activate your account.', 'If you require any technical support activating your account, contact the IST Service Desk.', 'Where do I find the degree requirements for my program?', 'The Graduate Studies Academic Calendar contains the official degree requirements for each program offered at the University of Waterloo.', 'Return to top\\n\\nAdmissions\\n\\nCan I defer my offer of admission to a later term?', 'Deferrals are managed by the academic program to which you have applied.', 'If you wish to defer your admission, please contact your graduate program co-ordinator with your request.', 'Do you accept electronic transcripts to clear my conditions?', 'We will work with you to ensure your documents are received by your start date.', 'To clear your conditions of admission: We will accept electronic transcripts provided by the issuing institution.', 'Please have electronic transcripts sent directly from the issuing institution to gradadmissions@uwaterloo.ca .', 'The documents from your institution must be received in a single PDF and include sender’s institution email address, full name and affiliation.', 'GSPA will accept official secure electronic transcripts provided by the issuing institution and from services such as MyCreds, CHESICC, Digitary, eScript-Safe, National Student Clearinghouse, Parchment or TranscriptsNetwork.', 'If your institution issues a secure electronic transcript, please have it sent to gradadmissions@uwaterloo.ca .', 'We will accept official hard copy transcripts sent from the issuing institution directly to Graduate Studies and Postdoctoral Affairs If your institution is closed and/or cannot produce electronic transcripts, we will temporarily accept unofficial transcripts.', 'Please send documentation (a screenshot) proving that the institution cannot produce electronic transcripts at this time to gradadmissions@uwaterloo.ca, along with an updated copy of your unofficial transcript.', 'We will extend the due date on your outstanding conditions as indicated in your student center in Quest.', 'This will allow you to register for your courses and become fees arranged.', 'We will assess and evaluate your official and final documents when they become available.', 'If your documents have already been mailed, but your Student Quest account indicates that you still have outstanding conditions, please send documentation (tracking number or confirmation that it has been delivered) to gradadmissions@uwaterloo.ca\\n\\n\\n\\nReturn to top\\n\\nAccommodations\\n\\nWhat housing options are available to graduate students?', 'What meal plans are available to graduate students?', 'Do I have to be vaccinated to live in residence?', 'Visit the COVID-19 information website for the latest information on vaccine requirements.', 'Return to top\\n\\nAwards and funding\\n\\nHow and when do I apply for funding for graduate school?', 'There are a variety of opportunities to help support you in funding your education.', 'For information, check out our scholarship competition resources web page.', 'Campus access\\n\\nVisit the COVID-19 information website for the latest information about returning to campus.', 'Return to top']\n"
          ]
        }
      ],
      "source": [
        "#Print list of sentences on the website\n",
        "print(sentence_list)"
      ]
    },
    {
      "cell_type": "code",
      "execution_count": null,
      "metadata": {
        "id": "cUj-Gfy7E2OS"
      },
      "outputs": [],
      "source": [
        "def index_sort(list_var):\n",
        "  length = len(list_var)\n",
        "  list_index = list(range(0, length))\n",
        "  \n",
        "  x = list_var\n",
        "  for i in range(length):\n",
        "   for j in range(length):\n",
        "     if x[list_index[i]] > x[list_index[j]] :\n",
        "       \n",
        "       #Swap\n",
        "       temp = list_index[i]\n",
        "       list_index[i] = list_index[j]\n",
        "       list_index[j] = temp\n",
        "  return list_index"
      ]
    },
    {
      "cell_type": "code",
      "execution_count": null,
      "metadata": {
        "id": "J2jJrJ2FDYS1"
      },
      "outputs": [],
      "source": [
        "#Create the chatbots responses\n",
        "def bot_response(user_input):\n",
        "  user_input = user_input.lower()\n",
        "  sentence_list.append(user_input) #pin\n",
        "  bot_response = ''\n",
        "  cm = CountVectorizer().fit_transform(sentence_list)\n",
        "  similarity_scores = cosine_similarity(cm[-1], cm)\n",
        "  similarity_scores_list = similarity_scores.flatten()\n",
        "  index = index_sort(similarity_scores_list)\n",
        "  index = index[1:]\n",
        "  response_flag = 0\n",
        "\n",
        "  j = 0\n",
        "  for i in range(len(index)):\n",
        "    if similarity_scores_list[index[i]] > 0.0:\n",
        "      bot_response = bot_response+sentence_list[index[i]]\n",
        "      response_flag = 1\n",
        "\n",
        "      #return bot_response\n",
        "    j = j+1\n",
        "    if j > 2:\n",
        "      return bot_response\n",
        "      break\n",
        "      \n",
        "\n",
        "\n",
        "    if response_flag == 0:\n",
        "      bot_response = bot_response+' '+\"Apologies , I don't understand.\"\n",
        "      \n",
        "      sentence_list.remove(user_input)\n",
        "\n",
        "      return bot_response\n"
      ]
    },
    {
      "cell_type": "code",
      "execution_count": null,
      "metadata": {
        "colab": {
          "background_save": true,
          "base_uri": "https://localhost:8080/"
        },
        "id": "nSm3N-igPC4n",
        "outputId": "82d3e458-e4a6-4ead-8f7c-7dd82dea76f6"
      },
      "outputs": [
        {
          "name": "stdout",
          "output_type": "stream",
          "text": [
            "Assistant Gisa: I am Gisa and I will answer queries regarding registration at NUST!\n"
          ]
        }
      ],
      "source": [
        "#Start the conversation\n",
        "print('Assistant Gisa: I am Gisa and I will answer queries regarding registration at NUST!')\n",
        "\n",
        "exit_list = ['goodbye', 'end', 'see you later', 'bye', 'ciao', 'exit', 'quit', 'terminate']\n",
        "\n",
        "while(True):\n",
        "  user_input = input(\"You: \")\n",
        "\n",
        "\n",
        "  if user_input.lower() in exit_list:\n",
        "     print('Assistant Gisa, Out!')\n",
        "     break\n",
        "\n",
        "else:\n",
        "    # if greeting_response(user_input) != None:\n",
        "    #   print('Assistant Gisa: ' + greeting_response(user_input))\n",
        "    # else:\n",
        "      print(\"Assistant Gisa: \" + bot_response(user_input))\n",
        "      "
      ]
    },
    {
      "cell_type": "code",
      "execution_count": null,
      "metadata": {
        "colab": {
          "base_uri": "https://localhost:8080/"
        },
        "id": "0sJZmy9k541w",
        "outputId": "ac9d82c1-6180-4db2-f1d5-11242218c9be"
      },
      "outputs": [
        {
          "name": "stdout",
          "output_type": "stream",
          "text": [
            "Enter username: Gisa\n",
            "Enter password: Rocks!\n",
            "Hello Gisa!\n"
          ]
        }
      ],
      "source": [
        "##Array of users with student numbers\n",
        "def user_validation(user_info):\n",
        "  user_info = {'Mbala': 'abc', 'Sencia': '321', 'Vessy': '456',\n",
        "         'Cindy': '123', 'Gisa': 'Rocks!', 'Mukasa': 'Fin'}\n",
        "\n",
        "# #loop to validate users with stud#\n",
        "while True:\n",
        " \n",
        "    stud_name = input(\"Enter username: \")\n",
        "    stud_num = input(\"Enter password: \")\n",
        "      #determine if the password is correct\n",
        "    if stud_name in user_info and user_info[stud_name] == stud_num:\n",
        "     print(\"Hello \" + stud_name +\"!\")\n",
        "    else:\n",
        "     print(\"ACCESS DENIED\")\n",
        "    break"
      ]
    },
    {
      "cell_type": "code",
      "execution_count": null,
      "metadata": {
        "id": "g4dFtSV1M80i"
      },
      "outputs": [],
      "source": [
        "def load_json(file):\n",
        "    with open(file) as bot_responses:\n",
        "        print(f\"Loaded '{file}' successfully!\")\n",
        "        return json.load(bot_responses)"
      ]
    },
    {
      "cell_type": "code",
      "execution_count": null,
      "metadata": {
        "colab": {
          "base_uri": "https://localhost:8080/"
        },
        "id": "g2WumWT9NGxn",
        "outputId": "f26e3451-0717-400c-ac49-0a7391f9099e"
      },
      "outputs": [
        {
          "name": "stdout",
          "output_type": "stream",
          "text": [
            "Loaded 'Bot_Response_G.json' successfully!\n"
          ]
        }
      ],
      "source": [
        "response_data = load_json(\"Bot_Response_G.json\")"
      ]
    },
    {
      "cell_type": "code",
      "execution_count": null,
      "metadata": {
        "id": "RkBJtdCIaL_f"
      },
      "outputs": [],
      "source": [
        "def get_response(input_string):\n",
        "    split_message = re.split(r'\\s+|[,;?!.-]\\s*', input_string.lower())\n",
        "    score_list = []\n",
        "\n",
        "    # Check all the responses\n",
        "    for response in response_data:\n",
        "        response_score = 0\n",
        "        required_score = 0\n",
        "        required_words = response[\"required_words\"]\n",
        "\n",
        "        # Check if there are any required words\n",
        "        if required_words:\n",
        "            for word in split_message:\n",
        "                if word in required_words:\n",
        "                    required_score += 1\n",
        "\n",
        "        # Amount of required words should match the required score\n",
        "        if required_score == len(required_words):\n",
        "            \n",
        "            # Check each word the user has typed\n",
        "            for word in split_message:\n",
        "                # If the word is in the response, add to the score\n",
        "                if word in response[\"user_input\"]:\n",
        "                    response_score += 1\n",
        "\n",
        "        # Add score to list\n",
        "        score_list.append(response_score)\n",
        "\n",
        "    # Find the best response and return it if they're not all 0\n",
        "    best_response = max(score_list)\n",
        "    response_index = score_list.index(best_response)\n",
        "\n",
        "    # Check if input is empty\n",
        "    if input_string == \"\":\n",
        "        return \"Please type something so we can chat :(\"\n",
        "\n",
        "    # If there is no good response, return a random one.\n",
        "    if best_response != 0:\n",
        "        return response_data[response_index][\"bot_response\"]\n",
        "\n",
        "    return random.choice(\"bot_response\")\n",
        "    #random_responses.random_string()\n",
        "\n",
        "\n",
        "while True:\n",
        "    user_input = input(\"You: \")\n",
        "    print(\"Bot:\", get_response(user_input))"
      ]
    },
    {
      "cell_type": "code",
      "execution_count": null,
      "metadata": {
        "id": "XIAmmhPArKqh"
      },
      "outputs": [],
      "source": [
        "# def get_pdf_file_content(path_to_pdf):\n",
        "#     resource_manager=PDFResourceManager(caching=True)\n",
        "#     out_text = StringIO()\n",
        "#     laParams = LAParams()\n",
        "#     text_converter = TextConverter(resource_manager, out_text, laparams=laParams)\n",
        "#     fp = open(path_to_pdf,'rb')\n",
        "#     interpreter = PDFPageInterpreter(resource_manager, text_converter)\n",
        "#     for page in PDFPage.get_pages(fp, pagenos=set(), maxpages=0, password = \" \", caching = True, check_extractable = True):\n",
        "#         interpreter.process_page(page)\n",
        "    \n",
        "#     text = out_text.getvalue()\n",
        "#     fp.close()\n",
        "#     text_converter.close()\n",
        "#     out_text.close()\n",
        "\n",
        "#     return text"
      ]
    },
    {
      "cell_type": "code",
      "execution_count": null,
      "metadata": {
        "id": "IQ7kAq7YuI7K"
      },
      "outputs": [],
      "source": [
        "#path_to_pdf = \"/content/SYD Ass 1 Uahengisa.pdf\""
      ]
    },
    {
      "cell_type": "code",
      "execution_count": null,
      "metadata": {
        "id": "xZ3M1DKEu2Kj"
      },
      "outputs": [],
      "source": [
        "#print(get_pdf_file_content(path_to_pdf))"
      ]
    },
    {
      "cell_type": "code",
      "execution_count": null,
      "metadata": {
        "id": "vvOfOtFwl0xA"
      },
      "outputs": [],
      "source": [
        "# text = extract_text('/content/SYD Ass 1 Uahengisa.pdf')\n",
        "# text = extract_text('samples/simple1.pdf')\n",
        "# print(repr(text))"
      ]
    },
    {
      "cell_type": "code",
      "execution_count": null,
      "metadata": {
        "id": "glsZ-6dAApUk"
      },
      "outputs": [],
      "source": [
        "# # A function to return a random greeting response to a users greeting\n",
        "# def greet_response(text):\n",
        "#  text = text.lower()\n",
        "#  #Bots greeting response\n",
        "#  bot_greeting = ['howdy', 'hi', 'hey', 'hello', 'hola', 'wassup']\n",
        "#  #Users greeting\n",
        "#  user_greeting = ['hi', 'hello', 'wassup', 'heyyy', 'hola', 'yo', 'hey']\n",
        "\n",
        "#  for word in text.split():\n",
        "#    if word in user_greeting:\n",
        "#      return random.choice(bot_greeting)"
      ]
    }
  ],
  "metadata": {
    "colab": {
      "collapsed_sections": [],
      "provenance": [],
      "include_colab_link": true
    },
    "kernelspec": {
      "display_name": "Python 3",
      "name": "python3"
    },
    "language_info": {
      "name": "python"
    }
  },
  "nbformat": 4,
  "nbformat_minor": 0
}